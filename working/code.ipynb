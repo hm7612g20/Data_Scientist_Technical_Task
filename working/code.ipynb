{
 "cells": [
  {
   "cell_type": "code",
   "execution_count": 107,
   "id": "f51dce9f-4316-4c29-b90b-62de7f898efe",
   "metadata": {},
   "outputs": [],
   "source": [
    "import pandas as pd\n",
    "import math\n",
    "import matplotlib.pyplot as plt\n",
    "import seaborn as sns\n",
    "from datetime import datetime\n",
    "from scipy import stats"
   ]
  },
  {
   "cell_type": "markdown",
   "id": "faa58610-41fc-4ec4-9ea5-589f0388fd55",
   "metadata": {},
   "source": [
    "### Reading in Data and Checks"
   ]
  },
  {
   "cell_type": "code",
   "execution_count": 2,
   "id": "8144824f-7aa7-47e1-bca1-90bf94a41dfe",
   "metadata": {},
   "outputs": [],
   "source": [
    "df_qla = pd.read_csv('task_data/task_qla_df.csv')"
   ]
  },
  {
   "cell_type": "code",
   "execution_count": 3,
   "id": "b06826cc-96fc-41d7-9b2a-44e733b380ed",
   "metadata": {},
   "outputs": [
    {
     "data": {
      "text/html": [
       "<div>\n",
       "<style scoped>\n",
       "    .dataframe tbody tr th:only-of-type {\n",
       "        vertical-align: middle;\n",
       "    }\n",
       "\n",
       "    .dataframe tbody tr th {\n",
       "        vertical-align: top;\n",
       "    }\n",
       "\n",
       "    .dataframe thead th {\n",
       "        text-align: right;\n",
       "    }\n",
       "</style>\n",
       "<table border=\"1\" class=\"dataframe\">\n",
       "  <thead>\n",
       "    <tr style=\"text-align: right;\">\n",
       "      <th></th>\n",
       "      <th>student_id</th>\n",
       "      <th>assessment_id</th>\n",
       "      <th>assessment_name</th>\n",
       "      <th>n_questions_entered</th>\n",
       "      <th>n_questions_attempted</th>\n",
       "      <th>n_assessment_questions</th>\n",
       "      <th>absent</th>\n",
       "      <th>mark</th>\n",
       "      <th>available_marks</th>\n",
       "      <th>created</th>\n",
       "      <th>last_updated</th>\n",
       "    </tr>\n",
       "  </thead>\n",
       "  <tbody>\n",
       "    <tr>\n",
       "      <th>0</th>\n",
       "      <td>b61c4</td>\n",
       "      <td>94245</td>\n",
       "      <td>Year 7 Term 3 Assessment</td>\n",
       "      <td>36</td>\n",
       "      <td>36</td>\n",
       "      <td>36</td>\n",
       "      <td>False</td>\n",
       "      <td>34.0</td>\n",
       "      <td>60</td>\n",
       "      <td>2024-06-27 14:18:23.948111+00:00</td>\n",
       "      <td>2024-06-27 14:22:34.230140+00:00</td>\n",
       "    </tr>\n",
       "    <tr>\n",
       "      <th>1</th>\n",
       "      <td>d47b3</td>\n",
       "      <td>94245</td>\n",
       "      <td>Year 7 Term 3 Assessment</td>\n",
       "      <td>36</td>\n",
       "      <td>36</td>\n",
       "      <td>36</td>\n",
       "      <td>False</td>\n",
       "      <td>37.0</td>\n",
       "      <td>60</td>\n",
       "      <td>2024-07-08 13:52:46.036772+00:00</td>\n",
       "      <td>2024-07-08 14:24:42.552651+00:00</td>\n",
       "    </tr>\n",
       "    <tr>\n",
       "      <th>2</th>\n",
       "      <td>01093</td>\n",
       "      <td>94245</td>\n",
       "      <td>Year 7 Term 3 Assessment</td>\n",
       "      <td>36</td>\n",
       "      <td>36</td>\n",
       "      <td>36</td>\n",
       "      <td>False</td>\n",
       "      <td>42.0</td>\n",
       "      <td>60</td>\n",
       "      <td>2024-07-03 08:08:21.592102+00:00</td>\n",
       "      <td>2024-07-03 08:22:59.515326+00:00</td>\n",
       "    </tr>\n",
       "    <tr>\n",
       "      <th>3</th>\n",
       "      <td>2a270</td>\n",
       "      <td>94245</td>\n",
       "      <td>Year 7 Term 3 Assessment</td>\n",
       "      <td>36</td>\n",
       "      <td>36</td>\n",
       "      <td>36</td>\n",
       "      <td>False</td>\n",
       "      <td>27.0</td>\n",
       "      <td>60</td>\n",
       "      <td>2024-07-04 07:52:38.344720+00:00</td>\n",
       "      <td>2024-07-04 08:21:34.395024+00:00</td>\n",
       "    </tr>\n",
       "    <tr>\n",
       "      <th>4</th>\n",
       "      <td>24de5</td>\n",
       "      <td>94245</td>\n",
       "      <td>Year 7 Term 3 Assessment</td>\n",
       "      <td>36</td>\n",
       "      <td>36</td>\n",
       "      <td>36</td>\n",
       "      <td>False</td>\n",
       "      <td>37.0</td>\n",
       "      <td>60</td>\n",
       "      <td>2024-07-13 18:57:19.360425+00:00</td>\n",
       "      <td>2024-07-13 19:30:58.809699+00:00</td>\n",
       "    </tr>\n",
       "  </tbody>\n",
       "</table>\n",
       "</div>"
      ],
      "text/plain": [
       "  student_id assessment_id           assessment_name  n_questions_entered  \\\n",
       "0      b61c4         94245  Year 7 Term 3 Assessment                   36   \n",
       "1      d47b3         94245  Year 7 Term 3 Assessment                   36   \n",
       "2      01093         94245  Year 7 Term 3 Assessment                   36   \n",
       "3      2a270         94245  Year 7 Term 3 Assessment                   36   \n",
       "4      24de5         94245  Year 7 Term 3 Assessment                   36   \n",
       "\n",
       "   n_questions_attempted  n_assessment_questions  absent  mark  \\\n",
       "0                     36                      36   False  34.0   \n",
       "1                     36                      36   False  37.0   \n",
       "2                     36                      36   False  42.0   \n",
       "3                     36                      36   False  27.0   \n",
       "4                     36                      36   False  37.0   \n",
       "\n",
       "   available_marks                           created  \\\n",
       "0               60  2024-06-27 14:18:23.948111+00:00   \n",
       "1               60  2024-07-08 13:52:46.036772+00:00   \n",
       "2               60  2024-07-03 08:08:21.592102+00:00   \n",
       "3               60  2024-07-04 07:52:38.344720+00:00   \n",
       "4               60  2024-07-13 18:57:19.360425+00:00   \n",
       "\n",
       "                       last_updated  \n",
       "0  2024-06-27 14:22:34.230140+00:00  \n",
       "1  2024-07-08 14:24:42.552651+00:00  \n",
       "2  2024-07-03 08:22:59.515326+00:00  \n",
       "3  2024-07-04 08:21:34.395024+00:00  \n",
       "4  2024-07-13 19:30:58.809699+00:00  "
      ]
     },
     "execution_count": 3,
     "metadata": {},
     "output_type": "execute_result"
    }
   ],
   "source": [
    "df_qla.head()"
   ]
  },
  {
   "cell_type": "code",
   "execution_count": 113,
   "id": "35d861e8-7a70-4641-9440-9664dbdd725c",
   "metadata": {},
   "outputs": [
    {
     "data": {
      "text/plain": [
       "student_id                0\n",
       "assessment_id             0\n",
       "assessment_name           0\n",
       "n_questions_entered       0\n",
       "n_questions_attempted     0\n",
       "n_assessment_questions    0\n",
       "absent                    0\n",
       "mark                      5\n",
       "available_marks           0\n",
       "created                   0\n",
       "last_updated              0\n",
       "dtype: int64"
      ]
     },
     "execution_count": 113,
     "metadata": {},
     "output_type": "execute_result"
    }
   ],
   "source": [
    "df_qla.isna().sum()"
   ]
  },
  {
   "cell_type": "code",
   "execution_count": 115,
   "id": "fbb3a809-e6de-4872-b176-7ada41cdcb75",
   "metadata": {},
   "outputs": [
    {
     "data": {
      "text/plain": [
       "3290    addd6\n",
       "3477    63daf\n",
       "5562    861a7\n",
       "5800    17c9c\n",
       "5825    99f61\n",
       "Name: student_id, dtype: object"
      ]
     },
     "execution_count": 115,
     "metadata": {},
     "output_type": "execute_result"
    }
   ],
   "source": [
    "df_qla[df_qla['mark'].isna()]['student_id']"
   ]
  },
  {
   "cell_type": "code",
   "execution_count": 119,
   "id": "5074a8c3-92b6-484f-92e8-ea90fa1c35b9",
   "metadata": {},
   "outputs": [
    {
     "data": {
      "text/html": [
       "<div>\n",
       "<style scoped>\n",
       "    .dataframe tbody tr th:only-of-type {\n",
       "        vertical-align: middle;\n",
       "    }\n",
       "\n",
       "    .dataframe tbody tr th {\n",
       "        vertical-align: top;\n",
       "    }\n",
       "\n",
       "    .dataframe thead th {\n",
       "        text-align: right;\n",
       "    }\n",
       "</style>\n",
       "<table border=\"1\" class=\"dataframe\">\n",
       "  <thead>\n",
       "    <tr style=\"text-align: right;\">\n",
       "      <th></th>\n",
       "      <th>student_id</th>\n",
       "      <th>assessment_id</th>\n",
       "      <th>assessment_name</th>\n",
       "      <th>n_questions_entered</th>\n",
       "      <th>n_questions_attempted</th>\n",
       "      <th>n_assessment_questions</th>\n",
       "      <th>absent</th>\n",
       "      <th>mark</th>\n",
       "      <th>available_marks</th>\n",
       "      <th>created</th>\n",
       "      <th>last_updated</th>\n",
       "    </tr>\n",
       "  </thead>\n",
       "  <tbody>\n",
       "    <tr>\n",
       "      <th>1750</th>\n",
       "      <td>addd6</td>\n",
       "      <td>9df0d</td>\n",
       "      <td>Year 7 End of Year Assessment</td>\n",
       "      <td>43</td>\n",
       "      <td>43</td>\n",
       "      <td>43</td>\n",
       "      <td>False</td>\n",
       "      <td>14.0</td>\n",
       "      <td>60</td>\n",
       "      <td>2024-06-30 21:52:18.353560+00:00</td>\n",
       "      <td>2024-06-30 21:56:58.994736+00:00</td>\n",
       "    </tr>\n",
       "    <tr>\n",
       "      <th>3290</th>\n",
       "      <td>addd6</td>\n",
       "      <td>73367</td>\n",
       "      <td>Year 7 Term 1 Assessment</td>\n",
       "      <td>0</td>\n",
       "      <td>0</td>\n",
       "      <td>47</td>\n",
       "      <td>False</td>\n",
       "      <td>NaN</td>\n",
       "      <td>60</td>\n",
       "      <td>2024-01-04 16:38:58.816326+00:00</td>\n",
       "      <td>2024-01-12 15:23:16.013386+00:00</td>\n",
       "    </tr>\n",
       "    <tr>\n",
       "      <th>3888</th>\n",
       "      <td>addd6</td>\n",
       "      <td>9be90</td>\n",
       "      <td>Year 7 Term 2 Assessment</td>\n",
       "      <td>35</td>\n",
       "      <td>35</td>\n",
       "      <td>35</td>\n",
       "      <td>False</td>\n",
       "      <td>11.0</td>\n",
       "      <td>60</td>\n",
       "      <td>2024-04-18 13:32:52.666274+00:00</td>\n",
       "      <td>2024-04-18 13:36:16.746294+00:00</td>\n",
       "    </tr>\n",
       "  </tbody>\n",
       "</table>\n",
       "</div>"
      ],
      "text/plain": [
       "     student_id assessment_id                assessment_name  \\\n",
       "1750      addd6         9df0d  Year 7 End of Year Assessment   \n",
       "3290      addd6         73367       Year 7 Term 1 Assessment   \n",
       "3888      addd6         9be90       Year 7 Term 2 Assessment   \n",
       "\n",
       "      n_questions_entered  n_questions_attempted  n_assessment_questions  \\\n",
       "1750                   43                     43                      43   \n",
       "3290                    0                      0                      47   \n",
       "3888                   35                     35                      35   \n",
       "\n",
       "      absent  mark  available_marks                           created  \\\n",
       "1750   False  14.0               60  2024-06-30 21:52:18.353560+00:00   \n",
       "3290   False   NaN               60  2024-01-04 16:38:58.816326+00:00   \n",
       "3888   False  11.0               60  2024-04-18 13:32:52.666274+00:00   \n",
       "\n",
       "                          last_updated  \n",
       "1750  2024-06-30 21:56:58.994736+00:00  \n",
       "3290  2024-01-12 15:23:16.013386+00:00  \n",
       "3888  2024-04-18 13:36:16.746294+00:00  "
      ]
     },
     "execution_count": 119,
     "metadata": {},
     "output_type": "execute_result"
    }
   ],
   "source": [
    "df_qla.loc[df_qla['student_id'] == 'addd6']"
   ]
  },
  {
   "cell_type": "markdown",
   "id": "45ca8dce-eda3-4125-967f-f14e224dc03a",
   "metadata": {},
   "source": [
    "Deciding to drop rows with N/A as data set is large with few missing values and it may not be accurate to assume a mark for the test based on other test marks. "
   ]
  },
  {
   "cell_type": "code",
   "execution_count": 120,
   "id": "f37cea1a-16ed-4692-a70d-9d1ce16a3f80",
   "metadata": {},
   "outputs": [],
   "source": [
    "df_qla.dropna(subset=['mark'], inplace=True)"
   ]
  },
  {
   "cell_type": "code",
   "execution_count": 121,
   "id": "8a53999c-92f7-4da9-bfbc-c02f1c95a791",
   "metadata": {},
   "outputs": [],
   "source": [
    "df_tia = pd.read_feather('task_data/task_tia_df.feather')"
   ]
  },
  {
   "cell_type": "code",
   "execution_count": 122,
   "id": "d30f0b90-1a27-41c5-8f35-443f433e3653",
   "metadata": {},
   "outputs": [
    {
     "data": {
      "text/html": [
       "<div>\n",
       "<style scoped>\n",
       "    .dataframe tbody tr th:only-of-type {\n",
       "        vertical-align: middle;\n",
       "    }\n",
       "\n",
       "    .dataframe tbody tr th {\n",
       "        vertical-align: top;\n",
       "    }\n",
       "\n",
       "    .dataframe thead th {\n",
       "        text-align: right;\n",
       "    }\n",
       "</style>\n",
       "<table border=\"1\" class=\"dataframe\">\n",
       "  <thead>\n",
       "    <tr style=\"text-align: right;\">\n",
       "      <th></th>\n",
       "      <th>index</th>\n",
       "      <th>student_id</th>\n",
       "      <th>package_id</th>\n",
       "      <th>first_start_time</th>\n",
       "      <th>last_start_time</th>\n",
       "      <th>task_index</th>\n",
       "      <th>task_item_index</th>\n",
       "      <th>assigned_number_homeworks_ago</th>\n",
       "      <th>learning_unit_id</th>\n",
       "      <th>question_id</th>\n",
       "      <th>n_times_prior_correct</th>\n",
       "      <th>summary</th>\n",
       "      <th>time_to_first_correct</th>\n",
       "      <th>video_time</th>\n",
       "    </tr>\n",
       "  </thead>\n",
       "  <tbody>\n",
       "    <tr>\n",
       "      <th>0</th>\n",
       "      <td>1100672</td>\n",
       "      <td>f6105</td>\n",
       "      <td>081b0</td>\n",
       "      <td>2025-04-06 21:08:53.567000+00:00</td>\n",
       "      <td>2025-04-06 21:09:55.161000+00:00</td>\n",
       "      <td>1</td>\n",
       "      <td>3</td>\n",
       "      <td>0</td>\n",
       "      <td>ecbb8</td>\n",
       "      <td>55587</td>\n",
       "      <td>0</td>\n",
       "      <td>WWC</td>\n",
       "      <td>64.619</td>\n",
       "      <td>0.0</td>\n",
       "    </tr>\n",
       "    <tr>\n",
       "      <th>1</th>\n",
       "      <td>4786</td>\n",
       "      <td>f6105</td>\n",
       "      <td>efdbe</td>\n",
       "      <td>2024-06-02 16:50:04.338000+00:00</td>\n",
       "      <td>2024-06-14 16:27:20.083000+00:00</td>\n",
       "      <td>3</td>\n",
       "      <td>3</td>\n",
       "      <td>0</td>\n",
       "      <td>48303</td>\n",
       "      <td>7477a</td>\n",
       "      <td>0</td>\n",
       "      <td>AA</td>\n",
       "      <td>NaN</td>\n",
       "      <td>0.0</td>\n",
       "    </tr>\n",
       "    <tr>\n",
       "      <th>2</th>\n",
       "      <td>340068</td>\n",
       "      <td>f6105</td>\n",
       "      <td>b8685</td>\n",
       "      <td>2025-03-09 17:03:30.877000+00:00</td>\n",
       "      <td>2025-03-09 17:06:44.174000+00:00</td>\n",
       "      <td>1</td>\n",
       "      <td>4</td>\n",
       "      <td>0</td>\n",
       "      <td>4a12e</td>\n",
       "      <td>0a175</td>\n",
       "      <td>0</td>\n",
       "      <td>AWC</td>\n",
       "      <td>91.804</td>\n",
       "      <td>0.0</td>\n",
       "    </tr>\n",
       "    <tr>\n",
       "      <th>3</th>\n",
       "      <td>135582</td>\n",
       "      <td>f6105</td>\n",
       "      <td>431d6</td>\n",
       "      <td>NaT</td>\n",
       "      <td>NaT</td>\n",
       "      <td>5</td>\n",
       "      <td>5</td>\n",
       "      <td>10</td>\n",
       "      <td>d26a1</td>\n",
       "      <td>af8ef</td>\n",
       "      <td>0</td>\n",
       "      <td>None</td>\n",
       "      <td>NaN</td>\n",
       "      <td>NaN</td>\n",
       "    </tr>\n",
       "    <tr>\n",
       "      <th>4</th>\n",
       "      <td>288247</td>\n",
       "      <td>f6105</td>\n",
       "      <td>772e9</td>\n",
       "      <td>2025-03-04 19:40:50.862000+00:00</td>\n",
       "      <td>2025-03-04 19:41:17.004000+00:00</td>\n",
       "      <td>5</td>\n",
       "      <td>2</td>\n",
       "      <td>10</td>\n",
       "      <td>98957</td>\n",
       "      <td>3c1ee</td>\n",
       "      <td>2</td>\n",
       "      <td>AC</td>\n",
       "      <td>32.449</td>\n",
       "      <td>0.0</td>\n",
       "    </tr>\n",
       "  </tbody>\n",
       "</table>\n",
       "</div>"
      ],
      "text/plain": [
       "     index student_id package_id                 first_start_time  \\\n",
       "0  1100672      f6105      081b0 2025-04-06 21:08:53.567000+00:00   \n",
       "1     4786      f6105      efdbe 2024-06-02 16:50:04.338000+00:00   \n",
       "2   340068      f6105      b8685 2025-03-09 17:03:30.877000+00:00   \n",
       "3   135582      f6105      431d6                              NaT   \n",
       "4   288247      f6105      772e9 2025-03-04 19:40:50.862000+00:00   \n",
       "\n",
       "                   last_start_time  task_index  task_item_index  \\\n",
       "0 2025-04-06 21:09:55.161000+00:00           1                3   \n",
       "1 2024-06-14 16:27:20.083000+00:00           3                3   \n",
       "2 2025-03-09 17:06:44.174000+00:00           1                4   \n",
       "3                              NaT           5                5   \n",
       "4 2025-03-04 19:41:17.004000+00:00           5                2   \n",
       "\n",
       "   assigned_number_homeworks_ago learning_unit_id question_id  \\\n",
       "0                              0            ecbb8       55587   \n",
       "1                              0            48303       7477a   \n",
       "2                              0            4a12e       0a175   \n",
       "3                             10            d26a1       af8ef   \n",
       "4                             10            98957       3c1ee   \n",
       "\n",
       "   n_times_prior_correct summary  time_to_first_correct  video_time  \n",
       "0                      0     WWC                 64.619         0.0  \n",
       "1                      0      AA                    NaN         0.0  \n",
       "2                      0     AWC                 91.804         0.0  \n",
       "3                      0    None                    NaN         NaN  \n",
       "4                      2      AC                 32.449         0.0  "
      ]
     },
     "execution_count": 122,
     "metadata": {},
     "output_type": "execute_result"
    }
   ],
   "source": [
    "df_tia.head()"
   ]
  },
  {
   "cell_type": "code",
   "execution_count": 123,
   "id": "732f7083-e0b8-472e-a527-af443ad983be",
   "metadata": {},
   "outputs": [
    {
     "data": {
      "text/plain": [
       "index                                0\n",
       "student_id                           0\n",
       "package_id                           0\n",
       "first_start_time                 55211\n",
       "last_start_time                  55211\n",
       "task_index                           0\n",
       "task_item_index                      0\n",
       "assigned_number_homeworks_ago     4095\n",
       "learning_unit_id                     0\n",
       "question_id                          0\n",
       "n_times_prior_correct                0\n",
       "summary                          55211\n",
       "time_to_first_correct            65125\n",
       "video_time                       55211\n",
       "dtype: int64"
      ]
     },
     "execution_count": 123,
     "metadata": {},
     "output_type": "execute_result"
    }
   ],
   "source": [
    "df_tia.isna().sum()"
   ]
  },
  {
   "cell_type": "markdown",
   "id": "d0ec8f88-0de3-4d3d-9eef-cb3e04b714f2",
   "metadata": {},
   "source": [
    "### Distinct students with both assessment and activity data"
   ]
  },
  {
   "cell_type": "code",
   "execution_count": 124,
   "id": "96eedfe2-2f67-41d3-8c12-fb471bc18e09",
   "metadata": {},
   "outputs": [
    {
     "name": "stdout",
     "output_type": "stream",
     "text": [
      "1400\n"
     ]
    }
   ],
   "source": [
    "# Counts unique id in lists\n",
    "unique_assess_id = df_qla['student_id'].unique().tolist()\n",
    "print(len(unique_assess_id))"
   ]
  },
  {
   "cell_type": "code",
   "execution_count": 125,
   "id": "7e404fa5-1e69-4372-a689-4b67c5717ad8",
   "metadata": {},
   "outputs": [
    {
     "name": "stdout",
     "output_type": "stream",
     "text": [
      "1394\n"
     ]
    }
   ],
   "source": [
    "unique_activity_id = df_tia['student_id'].unique().tolist()\n",
    "print(len(unique_activity_id))"
   ]
  },
  {
   "cell_type": "code",
   "execution_count": 126,
   "id": "13eb7058-b149-4f20-b125-f296e40b62e4",
   "metadata": {},
   "outputs": [
    {
     "name": "stdout",
     "output_type": "stream",
     "text": [
      "1394\n"
     ]
    }
   ],
   "source": [
    "# Searches for id that are common in both unique lists\n",
    "both_data_count = 0\n",
    "for i in unique_assess_id:\n",
    "    if i in unique_activity_id:\n",
    "        both_data_count += 1\n",
    "\n",
    "print(both_data_count)"
   ]
  },
  {
   "cell_type": "markdown",
   "id": "352ec547-b2fc-4ed0-a28f-5bafd6221211",
   "metadata": {},
   "source": [
    "### Mean progress students made from one test to the next"
   ]
  },
  {
   "cell_type": "code",
   "execution_count": 131,
   "id": "20b5ba47-5ea8-4897-8456-68c0ad05722f",
   "metadata": {},
   "outputs": [],
   "source": [
    "mean_score_change = []\n",
    "first_test_scores = []\n",
    "second_test_scores = []\n",
    "\n",
    "for ind, a_id in enumerate(unique_assess_id):\n",
    "    # Finds all test data for unique student\n",
    "    indiv_id = df_qla.loc[df_qla['student_id'] == a_id]\n",
    "    # Moves to next if not more than one data point for test\n",
    "    if len(indiv_id) < 2:\n",
    "        continue\n",
    "\n",
    "    indiv_id_order = indiv_id.copy()\n",
    "    # Convert created column to datetime\n",
    "    indiv_id_order['created'] = pd.to_datetime(indiv_id_order['created'])\n",
    "    # Sort by datetime in ascending order so get improvement over time\n",
    "    indiv_id_order = indiv_id_order.sort_values(by='created')\n",
    "\n",
    "    # Finds marks and available marks\n",
    "    marks = indiv_id_order['mark'].to_list()\n",
    "    available = indiv_id_order['available_marks'].to_list()\n",
    "\n",
    "    # Calculates score as marks/available\n",
    "    score = []\n",
    "    for i, mrk in enumerate(marks):\n",
    "        avl = available[i]\n",
    "        score.append(mrk/avl)\n",
    "    \n",
    "    # Calculates change in progress as difference in score\n",
    "    score_change = []\n",
    "    for j, sc in enumerate(score):\n",
    "        # Saves scores for first two tests\n",
    "        if j == 0:\n",
    "            first_test_scores.append(sc)\n",
    "        if j == 1:\n",
    "            second_test_scores.append(sc)\n",
    "        if j < len(score) - 1:\n",
    "            chg = score[j+1] - sc\n",
    "            score_change.append(chg)\n",
    "\n",
    "    # Finds mean change for that student\n",
    "    mean_chg = sum(score_change) / len(score_change)\n",
    "    mean_score_change.append(mean_chg)"
   ]
  },
  {
   "cell_type": "code",
   "execution_count": 132,
   "id": "76bff648-7e77-4e6b-9600-2c781cd2ab78",
   "metadata": {},
   "outputs": [
    {
     "name": "stdout",
     "output_type": "stream",
     "text": [
      "-0.03347242063492063\n"
     ]
    }
   ],
   "source": [
    "overall_mean_score_change = sum(mean_score_change) / len(mean_score_change)\n",
    "print(overall_mean_score_change)"
   ]
  },
  {
   "cell_type": "markdown",
   "id": "872522c6-3637-4e8e-8ada-a1ea68aa220a",
   "metadata": {},
   "source": [
    "### Plot of distribution"
   ]
  },
  {
   "cell_type": "code",
   "execution_count": 147,
   "id": "2ccc83ec-8adf-4682-94b6-14637b2b243b",
   "metadata": {},
   "outputs": [
    {
     "data": {
      "image/png": "[encoded data removed]",
      "text/plain": [
       "<Figure size 1000x600 with 1 Axes>"
      ]
     },
     "metadata": {},
     "output_type": "display_data"
    }
   ],
   "source": [
    "plt.figure(figsize=(10,6))\n",
    "sns.boxplot(x=mean_score_change)\n",
    "plt.title('Distribution of Mean Change in Progress')\n",
    "plt.xlabel('Mean Change in Progress')\n",
    "plt.savefig('distribution.png')\n",
    "plt.show()"
   ]
  },
  {
   "cell_type": "markdown",
   "id": "cbeabb1e-e108-497f-9a56-293f82b4aa9b",
   "metadata": {},
   "source": [
    "### Students performance in the second test compared to the first"
   ]
  },
  {
   "cell_type": "code",
   "execution_count": 135,
   "id": "0ca7fcc1-32a7-4cc2-9a3c-98d87e50ef14",
   "metadata": {},
   "outputs": [
    {
     "name": "stdout",
     "output_type": "stream",
     "text": [
      "-0.050238095238095234\n"
     ]
    }
   ],
   "source": [
    "first_second_diff = []\n",
    "for sc1, sc2 in zip(first_test_scores, second_test_scores):\n",
    "    diff = sc2 - sc1\n",
    "    first_second_diff.append(diff)\n",
    "\n",
    "fst_sec_mean_score_change = sum(first_second_diff) / len(first_second_diff)\n",
    "print(fst_sec_mean_score_change)   "
   ]
  },
  {
   "cell_type": "code",
   "execution_count": 136,
   "id": "4e8d6632-e8ac-43bd-b3b6-a4609afd24e5",
   "metadata": {},
   "outputs": [],
   "source": [
    "df_list = list(zip(first_test_scores, second_test_scores))\n",
    "first_second_scores = pd.DataFrame(df_list, columns =['first', 'second'])"
   ]
  },
  {
   "cell_type": "code",
   "execution_count": 137,
   "id": "3742d2b0-5fea-4e5b-b544-3071764e3cbd",
   "metadata": {},
   "outputs": [
    {
     "data": {
      "text/html": [
       "<div>\n",
       "<style scoped>\n",
       "    .dataframe tbody tr th:only-of-type {\n",
       "        vertical-align: middle;\n",
       "    }\n",
       "\n",
       "    .dataframe tbody tr th {\n",
       "        vertical-align: top;\n",
       "    }\n",
       "\n",
       "    .dataframe thead th {\n",
       "        text-align: right;\n",
       "    }\n",
       "</style>\n",
       "<table border=\"1\" class=\"dataframe\">\n",
       "  <thead>\n",
       "    <tr style=\"text-align: right;\">\n",
       "      <th></th>\n",
       "      <th>first</th>\n",
       "      <th>second</th>\n",
       "    </tr>\n",
       "  </thead>\n",
       "  <tbody>\n",
       "    <tr>\n",
       "      <th>0</th>\n",
       "      <td>0.750000</td>\n",
       "      <td>0.683333</td>\n",
       "    </tr>\n",
       "    <tr>\n",
       "      <th>1</th>\n",
       "      <td>0.766667</td>\n",
       "      <td>0.666667</td>\n",
       "    </tr>\n",
       "    <tr>\n",
       "      <th>2</th>\n",
       "      <td>0.716667</td>\n",
       "      <td>0.566667</td>\n",
       "    </tr>\n",
       "    <tr>\n",
       "      <th>3</th>\n",
       "      <td>0.483333</td>\n",
       "      <td>0.350000</td>\n",
       "    </tr>\n",
       "    <tr>\n",
       "      <th>4</th>\n",
       "      <td>0.616667</td>\n",
       "      <td>0.566667</td>\n",
       "    </tr>\n",
       "  </tbody>\n",
       "</table>\n",
       "</div>"
      ],
      "text/plain": [
       "      first    second\n",
       "0  0.750000  0.683333\n",
       "1  0.766667  0.666667\n",
       "2  0.716667  0.566667\n",
       "3  0.483333  0.350000\n",
       "4  0.616667  0.566667"
      ]
     },
     "execution_count": 137,
     "metadata": {},
     "output_type": "execute_result"
    }
   ],
   "source": [
    "first_second_scores.head()"
   ]
  },
  {
   "cell_type": "code",
   "execution_count": 138,
   "id": "9d5cc50a-1c25-455f-a126-49826d7c4c15",
   "metadata": {},
   "outputs": [
    {
     "data": {
      "text/plain": [
       "first     0\n",
       "second    0\n",
       "dtype: int64"
      ]
     },
     "execution_count": 138,
     "metadata": {},
     "output_type": "execute_result"
    }
   ],
   "source": [
    "first_second_scores.isna().sum()"
   ]
  },
  {
   "cell_type": "code",
   "execution_count": 139,
   "id": "c76c7e49-eb01-495e-9e1b-32dd5a7f2f1c",
   "metadata": {},
   "outputs": [
    {
     "data": {
      "image/png": "[encoded data removed]",
      "text/plain": [
       "<Figure size 640x480 with 1 Axes>"
      ]
     },
     "metadata": {},
     "output_type": "display_data"
    }
   ],
   "source": [
    "sns.histplot(first_second_scores['first'], kde=True)\n",
    "plt.title('Histogram of Distribution of Scores for First Test')\n",
    "plt.show()"
   ]
  },
  {
   "cell_type": "code",
   "execution_count": 140,
   "id": "5a3ab311-8f3f-464f-95aa-dc886754d5fb",
   "metadata": {},
   "outputs": [
    {
     "data": {
      "image/png": "[encoded data removed]",
      "text/plain": [
       "<Figure size 640x480 with 1 Axes>"
      ]
     },
     "metadata": {},
     "output_type": "display_data"
    }
   ],
   "source": [
    "sns.histplot(first_second_scores['second'], kde=True)\n",
    "plt.title('Histogram of Distribution of Scores for Second Test')\n",
    "plt.show()"
   ]
  },
  {
   "cell_type": "code",
   "execution_count": 146,
   "id": "b05e9bf8-2d2e-4afe-8ea7-0e4cdc2b5812",
   "metadata": {},
   "outputs": [
    {
     "data": {
      "image/png": "[encoded data removed]",
      "text/plain": [
       "<Figure size 640x480 with 1 Axes>"
      ]
     },
     "metadata": {},
     "output_type": "display_data"
    }
   ],
   "source": [
    "stats.probplot(first_second_scores['first'], dist='norm', plot=plt)\n",
    "plt.title('Q-Q Plot of Scores for First Test')\n",
    "plt.show()"
   ]
  },
  {
   "cell_type": "code",
   "execution_count": 145,
   "id": "a4c90887-85b6-4b8c-bce3-251fac3887f1",
   "metadata": {},
   "outputs": [
    {
     "data": {
      "image/png": "[encoded data removed]",
      "text/plain": [
       "<Figure size 640x480 with 1 Axes>"
      ]
     },
     "metadata": {},
     "output_type": "display_data"
    }
   ],
   "source": [
    "stats.probplot(first_second_scores['second'], dist='norm', plot=plt)\n",
    "plt.title('Q-Q Plot of Scores for Second Test')\n",
    "plt.show()"
   ]
  },
  {
   "cell_type": "markdown",
   "id": "a1a0c98b-fc25-40a9-b8e5-cde6cfb5dfd6",
   "metadata": {},
   "source": [
    "Null hypothesis is that there is no statistically significant difference between the test scores for the first test and the second. The alternative hypothesis is that there is a statistically significant difference between the test scores for the first test and the second."
   ]
  },
  {
   "cell_type": "markdown",
   "id": "88783e95-5f08-4073-8cc0-1f929a0ac73d",
   "metadata": {},
   "source": [
    "Data is not very normally distributed, which violates the assumption of the paired t-test. This suggests the Wilcoxon signed-rank test is suitable, as the data is paired (i.e. test scores are between the same pupils) and doesn't require the assumption of normality. Both will be performed for completion."
   ]
  },
  {
   "cell_type": "code",
   "execution_count": 143,
   "id": "7524e338-bdd9-47ce-8b98-8d006a1820bb",
   "metadata": {},
   "outputs": [
    {
     "name": "stdout",
     "output_type": "stream",
     "text": [
      "t-statistic: 12.664108581030987\n",
      "p-value: 7.077110217342972e-35\n"
     ]
    }
   ],
   "source": [
    "# Paired t-test\n",
    "t_stat, ttest_p = stats.ttest_rel(first_second_scores['first'], \n",
    "                                  first_second_scores['second'])\n",
    "\n",
    "print('t-statistic:', t_stat)\n",
    "print('p-value:', ttest_p)"
   ]
  },
  {
   "cell_type": "code",
   "execution_count": 144,
   "id": "bfdf97a0-1554-4366-995c-562570907119",
   "metadata": {},
   "outputs": [
    {
     "name": "stdout",
     "output_type": "stream",
     "text": [
      "Wilcoxon test statistic: 229738.0\n",
      "p-value: 2.4490431234929847e-49\n"
     ]
    }
   ],
   "source": [
    "# Wilcoxon signed-rank test\n",
    "wc_stat, wc_p = stats.wilcoxon(first_second_scores['first'], \n",
    "                               first_second_scores['second'])\n",
    "\n",
    "print('Wilcoxon test statistic:', wc_stat)\n",
    "print('p-value:', wc_p)"
   ]
  },
  {
   "cell_type": "markdown",
   "id": "79b3acb3-42c4-4cb2-a04f-76e78fdbac03",
   "metadata": {},
   "source": [
    "As the p-value < 0.05, there is significant evidence to reject the null hypothesis, meaning thereis a statistically significant difference between the test scores for the first test and the second."
   ]
  },
  {
   "cell_type": "markdown",
   "id": "7ac0a3e1-dfb2-46ec-b253-b17a705e3d3b",
   "metadata": {},
   "source": [
    "To improve confidence in the results, you could perform sensitivity analysis to see how changes in assumptions/data affect the results. There may be a confounding factor that has not been taken into account."
   ]
  },
  {
   "cell_type": "markdown",
   "id": "5321efcb-14b1-4424-b970-bac806091023",
   "metadata": {},
   "source": [
    "### Using learning tool affects scores"
   ]
  },
  {
   "cell_type": "code",
   "execution_count": null,
   "id": "8205452c-a8b5-4437-92f0-fd9c80bf0be4",
   "metadata": {},
   "outputs": [],
   "source": []
  }
 ],
 "metadata": {
  "kernelspec": {
   "display_name": "Python 3 (ipykernel)",
   "language": "python",
   "name": "python3"
  },
  "language_info": {
   "codemirror_mode": {
    "name": "ipython",
    "version": 3
   },
   "file_extension": ".py",
   "mimetype": "text/x-python",
   "name": "python",
   "nbconvert_exporter": "python",
   "pygments_lexer": "ipython3",
   "version": "3.13.3"
  }
 },
 "nbformat": 4,
 "nbformat_minor": 5
}
